{
 "cells": [
  {
   "cell_type": "code",
   "execution_count": 1,
   "metadata": {},
   "outputs": [],
   "source": [
    "import numpy as np\n",
    "import pandas as pd\n",
    "import os\n",
    "import mutagen\n",
    "import re"
   ]
  },
  {
   "cell_type": "code",
   "execution_count": 2,
   "metadata": {},
   "outputs": [],
   "source": [
    "dir_path = 'D:\\\\Music'\n",
    "\n",
    "acceptable_file_types = ('.mp3', '.wav', '.flac', '.aac', '.ogg', '.wma', '.aiff', '.m4a')"
   ]
  },
  {
   "cell_type": "code",
   "execution_count": 3,
   "metadata": {},
   "outputs": [],
   "source": [
    "file_data = []\n",
    "\n",
    "for root, dirs, files in os.walk(dir_path):\n",
    "    for file in files: \n",
    "\n",
    "        if file.endswith(acceptable_file_types):\n",
    "            file_data.append([file.replace(\" \", \"\"), root])"
   ]
  },
  {
   "cell_type": "code",
   "execution_count": 5,
   "metadata": {},
   "outputs": [
    {
     "data": {
      "text/plain": [
       "\"Prisoner'sSong.mp3\""
      ]
     },
     "execution_count": 5,
     "metadata": {},
     "output_type": "execute_result"
    }
   ],
   "source": [
    "len(file_data)\n",
    "file_data[7][0]"
   ]
  },
  {
   "cell_type": "code",
   "execution_count": 12,
   "metadata": {},
   "outputs": [],
   "source": [
    "def normalize_filename(filenames):\n",
    "    newfile = []  \n",
    "    for file in filenames:\n",
    "        file_nop = re.sub(r'[^\\w]', '', file)\n",
    "        newfile.append(file_nop.lower())\n",
    "    return newfile\n",
    "\n",
    "normalized_file_data = [normalize_filename(f) for f in file_data]"
   ]
  },
  {
   "cell_type": "code",
   "execution_count": 34,
   "metadata": {},
   "outputs": [],
   "source": [
    "def Extract(lst, num):\n",
    "    return [item[num] for item in lst]\n",
    "\n",
    "track_names = normalize_filename(Extract(file_data, 0))"
   ]
  },
  {
   "cell_type": "code",
   "execution_count": 37,
   "metadata": {},
   "outputs": [
    {
     "name": "stdout",
     "output_type": "stream",
     "text": [
      "09homebrewragmp3 Found in: D:\\Music\\Music Collections\\Don Leister\\Ballads, Blues, & Breakdowns, Vol. 1- Old-Time Music of West Virginia\n",
      "16homebrewragmp3 Found in: D:\\Music\\Music Collections\\Don Leister\\Virginia Roots- The 1929 Richmond Sessions Disc 2\n",
      "howeteagueoldtimeozarksfiddlerhoweteagueozarkmemoriesmsotfa20404homebrewragmp3 Found in: D:\\Music\\Music Collections\\Missouri State Old Time Fiddlers Association\\Howe Teague - Old Time Ozarks Fiddler - Howe Teague - Ozark Memories (MSOTFA 204)\n",
      "03homebrewragmp3 Found in: D:\\Music\\Music Collections\\Jeremy's Oldtime Blog\\The Tweedy Brothers\\1930-05-21\n",
      "homebrewragmp3 Found in: D:\\Music\\Music Collections\\Juneberry 78s\\Honking Duck & Jabbour + Hoover\\Skillet Lickers\\Lowe Stokes\n",
      "22homebrewragroanokejugbandmp3 Found in: D:\\Music\\Music Collections\\Juneberry 78s\\Juneberry 15000B\\JU 15063 Okeh Artists Complete Recordings\n",
      "be10821r_homebrewrag_vandergriffartiemp3 Found in: D:\\Music\\Music Collections\\Larry Warren\\Berea Full\\Disc 1\n",
      "be10922r_homebrewrag_vandergriffartiemp3 Found in: D:\\Music\\Music Collections\\Larry Warren\\Berea Full\\Disc 1\n",
      "be12420r_homebrewrag_stonejimmp3 Found in: D:\\Music\\Music Collections\\Larry Warren\\Berea Full\\Disc 1\n",
      "homebrewragmp3 Found in: D:\\Music\\Music Collections\\Juneberry 78s\\Honking Duck & Jabbour + Hoover\\Skillet Lickers\\Lowe Stokes\n",
      "homebrewragmp3 Found in: D:\\Music\\Music Collections\\Juneberry 78s\\Honking Duck & Jabbour + Hoover\\Skillet Lickers\\Lowe Stokes\n",
      "homebrewragtweedybrosmp3 Found in: D:\\Music\\Music Collections\\Larry Warren\\M-K Full\\GDAE\\F\n",
      "12homebrewragmp3 Found in: D:\\Music\\Music Collections\\Rick Westkaemper\\Old Time 78's, Fin-Yang 002\n",
      "homebrewraglowestokesmp3 Found in: D:\\Music\\Music Collections\\Roots 1001 Fiddle Tunes\\ROOTS VOL 1\n",
      "homebrewragtweedybrosmp3 Found in: D:\\Music\\Music Collections\\Larry Warren\\M-K Full\\GDAE\\F\n",
      "03homebrewragmp3 Found in: D:\\Music\\Music Collections\\Jeremy's Oldtime Blog\\The Tweedy Brothers\\1930-05-21\n",
      "homebrewragtweedybrosmp3 Found in: D:\\Music\\Music Collections\\Larry Warren\\M-K Full\\GDAE\\F\n",
      "homebrewraglowestokesmp3 Found in: D:\\Music\\Music Collections\\Roots 1001 Fiddle Tunes\\ROOTS VOL 1\n",
      "homebrewragtweedybrosmp3 Found in: D:\\Music\\Music Collections\\Larry Warren\\M-K Full\\GDAE\\F\n"
     ]
    }
   ],
   "source": [
    "search_filename = re.sub(r'[^\\w]', '', 'Home Brew Rag').lower()\n",
    "root = Extract(file_data, 1)\n",
    "\n",
    "for file in track_names:\n",
    "    if file.__contains__(search_filename):\n",
    "        location = track_names.index(file)\n",
    "        print(f\"{file} Found in: {root[location]}\")"
   ]
  }
 ],
 "metadata": {
  "kernelspec": {
   "display_name": "Python 3",
   "language": "python",
   "name": "python3"
  },
  "language_info": {
   "codemirror_mode": {
    "name": "ipython",
    "version": 3
   },
   "file_extension": ".py",
   "mimetype": "text/x-python",
   "name": "python",
   "nbconvert_exporter": "python",
   "pygments_lexer": "ipython3",
   "version": "3.12.1"
  }
 },
 "nbformat": 4,
 "nbformat_minor": 2
}
